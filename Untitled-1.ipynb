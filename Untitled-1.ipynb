{
 "cells": [
  {
   "cell_type": "code",
   "execution_count": 1,
   "id": "f9ce747f",
   "metadata": {},
   "outputs": [
    {
     "data": {
      "text/plain": [
       "14"
      ]
     },
     "execution_count": 1,
     "metadata": {},
     "output_type": "execute_result"
    }
   ],
   "source": [
    "x=4\n",
    "y=10\n",
    "x+y"
   ]
  },
  {
   "cell_type": "code",
   "execution_count": 2,
   "id": "cf2a2ace",
   "metadata": {},
   "outputs": [
    {
     "name": "stdout",
     "output_type": "stream",
     "text": [
      "1\n"
     ]
    }
   ],
   "source": [
    "#listas mutables * // inmutables \n",
    "v1=[1,2,3,4,5]\n",
    "v2=[2,5,6,7,8]\n",
    "#append, pop, remove, sort, reverse\n",
    "# listas:[], \n",
    "# tuplas:(), diccionarios:{}\n",
    "t1=(1,2,3,4,5)\n",
    "print(t1[0])"
   ]
  },
  {
   "cell_type": "code",
   "execution_count": 3,
   "id": "69e352bd",
   "metadata": {},
   "outputs": [
    {
     "name": "stdout",
     "output_type": "stream",
     "text": [
      "Nombre: Juan, Edad: 18\n",
      "Nombre: David, Edad: 20\n",
      "Nombre: Ana, Edad: 22\n",
      "Nombre: Maria, Edad: 19\n"
     ]
    }
   ],
   "source": [
    "#lista agrupa una tupla: persona, edad\n",
    "v3=[(\"Juan\",18),(\"David\",20),(\"Ana\",22),(\"Maria\",19)]\n",
    "for nombre,edad in v3: \n",
    "    print(f\"Nombre: {nombre}, Edad: {edad}\")"
   ]
  },
  {
   "cell_type": "code",
   "execution_count": null,
   "id": "c726e9e1",
   "metadata": {},
   "outputs": [
    {
     "name": "stdout",
     "output_type": "stream",
     "text": [
      "Estudiantes aprobados: ['Maria', 'Juan']\n"
     ]
    }
   ],
   "source": [
    "#notas entre 0 -20\n",
    "estudiantes = [ (\"Ana\",8), (\"David\",12), (\"Maria\",20), (\"Juan\",15) ]\n",
    "#Mostrar los que aprobaron nota >14\n",
    "aprobados= [nombre for nombre, nota in estudiantes if nota > 14]\n",
    "print(\"Estudiantes aprobados:\", aprobados)\n",
    "#Mostrar el promedio de las notas\n",
    "#-----\n",
    "#Mostrar el estudiante con mayor nota\n",
    "#----"
   ]
  },
  {
   "cell_type": "code",
   "execution_count": 5,
   "id": "8a824c49",
   "metadata": {},
   "outputs": [
    {
     "name": "stdout",
     "output_type": "stream",
     "text": [
      "('Juan', 'Jose', 'Maria', 'Ana')\n"
     ]
    }
   ],
   "source": [
    "#tupla a lista\n",
    "val=(\"Juan\",\"Jose\",\"Maria\")\n",
    "#list conversion\n",
    "val2=list(val)\n",
    "val2.append(\"Ana\")\n",
    "val3=tuple(val2)\n",
    "print(val3)\n"
   ]
  },
  {
   "cell_type": "code",
   "execution_count": 2,
   "id": "aea4aa21",
   "metadata": {},
   "outputs": [],
   "source": [
    "#lista de tuplas\n",
    "#accesorios de computacion con precios\n",
    "productos=[(\"mouse\",10),(\"teclado\",15),(\"pantalla\",500)]\n",
    "#Aumenten el precio de cada componente al 10%\n"
   ]
  },
  {
   "cell_type": "code",
   "execution_count": null,
   "id": "7e50a97f",
   "metadata": {},
   "outputs": [],
   "source": [
    "#Crea una nueva lista con tupla modificada\n"
   ]
  },
  {
   "cell_type": "code",
   "execution_count": 3,
   "id": "4f9b852d",
   "metadata": {},
   "outputs": [],
   "source": [
    "#Mostrar el producto mas caro\n",
    "mas_caro=max(productos,key=lambda p:p[1])"
   ]
  },
  {
   "cell_type": "code",
   "execution_count": null,
   "id": "af6bf064",
   "metadata": {},
   "outputs": [],
   "source": [
    "#features\n",
    "productos =[\n",
    "(\"mouse\",10,\"accesorios\"),(\"teclado\",15,\"accesorios\"),\n",
    "(\"tv\",500,\"pantallas\"),(\"monitor\",200,\"pantallas\"),\n",
    "(\"audifonos\",50,\"audio\"),(\"parlante\",150,\"audio\")\n",
    "]\n",
    "#categoria: accesorios, pantallas, audio"
   ]
  },
  {
   "cell_type": "code",
   "execution_count": null,
   "id": "9ffe7676",
   "metadata": {},
   "outputs": [],
   "source": [
    "#Agrupar por categoria\n",
    "#el mas caro\n",
    "#Ordenar y mostrar todos los productos por categoria"
   ]
  },
  {
   "cell_type": "code",
   "execution_count": 4,
   "id": "8abc81ea",
   "metadata": {},
   "outputs": [
    {
     "name": "stdout",
     "output_type": "stream",
     "text": [
      "Nombre: Pepito\n"
     ]
    }
   ],
   "source": [
    "#Diccionarios\n",
    "personas={\n",
    "    \"nombre\":\"Pepito\",\n",
    "    \"edad\": 15,\n",
    "    \"ciudad\":\"Lima\",\n",
    "}\n",
    "print(\"Nombre:\",personas[\"nombre\"])\n",
    "#edad\n",
    "#ciudad"
   ]
  },
  {
   "cell_type": "code",
   "execution_count": 12,
   "id": "3ee0d15f",
   "metadata": {},
   "outputs": [
    {
     "name": "stdout",
     "output_type": "stream",
     "text": [
      "{'nombre': 'Pepito', 'edad': 15, 'ciudad': 'Arequipa', 'funcion': 'hijo', 'rol': 'estudiante'}\n"
     ]
    }
   ],
   "source": [
    "#append\n",
    "personas[\"funcion\"]=\"hijo\"\n",
    "print(personas)"
   ]
  },
  {
   "cell_type": "code",
   "execution_count": 11,
   "id": "3c883438",
   "metadata": {},
   "outputs": [
    {
     "name": "stdout",
     "output_type": "stream",
     "text": [
      "nombre:Pepito\n",
      "edad:15\n",
      "ciudad:Arequipa\n",
      "funcion:estudiante\n",
      "rol:estudiante\n"
     ]
    }
   ],
   "source": [
    "for clave,valor in personas.items():\n",
    "    print(f\"{clave}:{valor}\")"
   ]
  },
  {
   "cell_type": "code",
   "execution_count": 13,
   "id": "4663bb58",
   "metadata": {},
   "outputs": [
    {
     "name": "stdout",
     "output_type": "stream",
     "text": [
      "Luis-Promedio:13.67\n",
      "Ana-Promedio:15.00\n",
      "Jose-Promedio:16.00\n"
     ]
    }
   ],
   "source": [
    "#Notas\n",
    "notas={\n",
    "    \"Luis\":[14,15,12], #l...e....n\n",
    "    \"Ana\":[18,15,12],\n",
    "    \"Jose\":[16,20,12],\n",
    "}\n",
    "#promedio\n",
    "for nomb_alumno,lista_notas in notas.items():\n",
    "    promedio = sum(lista_notas)/len(lista_notas)\n",
    "    print(f\"{nomb_alumno}-Promedio:{promedio:.2f}\")"
   ]
  },
  {
   "cell_type": "code",
   "execution_count": 14,
   "id": "b61f3bf7",
   "metadata": {},
   "outputs": [
    {
     "name": "stdout",
     "output_type": "stream",
     "text": [
      "{'luna': 3, 'sol': 2, 'estrella': 1}\n"
     ]
    }
   ],
   "source": [
    "#\"sol\", \"luna\", \"estrella\"\n",
    "palabras=[\"luna\",\"sol\", \"luna\", \"estrella\",\"luna\",\"sol\"]\n",
    "conteo={}\n",
    "for palabra in palabras:\n",
    "    conteo[palabra]=conteo.get(palabra,0)+1\n",
    "print(conteo)"
   ]
  },
  {
   "cell_type": "code",
   "execution_count": null,
   "id": "ab3ecf4c",
   "metadata": {},
   "outputs": [],
   "source": [
    "#diccionario anidado\n",
    "calificaciones={\n",
    "    \"Juan\":{\"matematicas\":16,\"historia\":18,\"ciencias\":14},\n",
    "    \"Ana\":{\"matematicas\":12,\"historia\":13,\"ciencias\":20},\n",
    "    \"Jose\":{\"matematicas\":15,\"historia\":14,\"ciencias\":18},\n",
    "}\n",
    "#Objetivo\n",
    "#promedio por curso (matematica, historia, ciencias)\n",
    "#Mostrar solo un diccionario con cada curso y su promedio\n",
    "#Mostrar el curso con mayor promedio"
   ]
  }
 ],
 "metadata": {
  "kernelspec": {
   "display_name": "Python 3",
   "language": "python",
   "name": "python3"
  },
  "language_info": {
   "codemirror_mode": {
    "name": "ipython",
    "version": 3
   },
   "file_extension": ".py",
   "mimetype": "text/x-python",
   "name": "python",
   "nbconvert_exporter": "python",
   "pygments_lexer": "ipython3",
   "version": "3.12.1"
  }
 },
 "nbformat": 4,
 "nbformat_minor": 5
}
