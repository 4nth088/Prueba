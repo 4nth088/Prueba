{
 "cells": [
  {
   "cell_type": "code",
   "execution_count": 1,
   "id": "f9ce747f",
   "metadata": {},
   "outputs": [
    {
     "data": {
      "text/plain": [
       "14"
      ]
     },
     "execution_count": 1,
     "metadata": {},
     "output_type": "execute_result"
    }
   ],
   "source": [
    "x=4\n",
    "y=10\n",
    "x+y"
   ]
  },
  {
   "cell_type": "code",
   "execution_count": 2,
   "id": "cf2a2ace",
   "metadata": {},
   "outputs": [
    {
     "name": "stdout",
     "output_type": "stream",
     "text": [
      "1\n"
     ]
    }
   ],
   "source": [
    "#listas mutables * // inmutables \n",
    "v1=[1,2,3,4,5]\n",
    "v2=[2,5,6,7,8]\n",
    "#append, pop, remove, sort, reverse\n",
    "# listas:[], \n",
    "# tuplas:(), diccionarios:{}\n",
    "t1=(1,2,3,4,5)\n",
    "print(t1[0])"
   ]
  },
  {
   "cell_type": "code",
   "execution_count": 3,
   "id": "69e352bd",
   "metadata": {},
   "outputs": [
    {
     "name": "stdout",
     "output_type": "stream",
     "text": [
      "Nombre: Juan, Edad: 18\n",
      "Nombre: David, Edad: 20\n",
      "Nombre: Ana, Edad: 22\n",
      "Nombre: Maria, Edad: 19\n"
     ]
    }
   ],
   "source": [
    "#lista agrupa una tupla: persona, edad\n",
    "v3=[(\"Juan\",18),(\"David\",20),(\"Ana\",22),(\"Maria\",19)]\n",
    "for nombre,edad in v3: \n",
    "    print(f\"Nombre: {nombre}, Edad: {edad}\")"
   ]
  },
  {
   "cell_type": "code",
   "execution_count": null,
   "id": "c726e9e1",
   "metadata": {},
   "outputs": [
    {
     "name": "stdout",
     "output_type": "stream",
     "text": [
      "Estudiantes aprobados: ['Maria', 'Juan']\n"
     ]
    }
   ],
   "source": [
    "#notas entre 0 -20\n",
    "estudiantes = [ (\"Ana\",8), (\"David\",12), (\"Maria\",20), (\"Juan\",15) ]\n",
    "#Mostrar los que aprobaron nota >14\n",
    "aprobados= [nombre for nombre, nota in estudiantes if nota > 14]\n",
    "print(\"Estudiantes aprobados:\", aprobados)\n",
    "#Mostrar el promedio de las notas\n",
    "#-----\n",
    "#Mostrar el estudiante con mayor nota\n",
    "#----"
   ]
  },
  {
   "cell_type": "code",
   "execution_count": 5,
   "id": "8a824c49",
   "metadata": {},
   "outputs": [
    {
     "name": "stdout",
     "output_type": "stream",
     "text": [
      "('Juan', 'Jose', 'Maria', 'Ana')\n"
     ]
    }
   ],
   "source": [
    "#tupla a lista\n",
    "val=(\"Juan\",\"Jose\",\"Maria\")\n",
    "#list conversion\n",
    "val2=list(val)\n",
    "val2.append(\"Ana\")\n",
    "val3=tuple(val2)\n",
    "print(val3)\n"
   ]
  },
  {
   "cell_type": "code",
   "execution_count": 2,
   "id": "aea4aa21",
   "metadata": {},
   "outputs": [],
   "source": [
    "#lista de tuplas\n",
    "#accesorios de computacion con precios\n",
    "productos=[(\"mouse\",10),(\"teclado\",15),(\"pantalla\",500)]\n",
    "#Aumenten el precio de cada componente al 10%\n"
   ]
  },
  {
   "cell_type": "code",
   "execution_count": null,
   "id": "7e50a97f",
   "metadata": {},
   "outputs": [],
   "source": [
    "#Crea una nueva lista con tupla modificada\n"
   ]
  },
  {
   "cell_type": "code",
   "execution_count": 3,
   "id": "4f9b852d",
   "metadata": {},
   "outputs": [],
   "source": [
    "#Mostrar el producto mas caro\n",
    "mas_caro=max(productos,key=lambda p:p[1])"
   ]
  },
  {
   "cell_type": "code",
   "execution_count": null,
   "id": "af6bf064",
   "metadata": {},
   "outputs": [],
   "source": [
    "#features\n",
    "productos =[\n",
    "(\"mouse\",10,\"accesorios\"),(\"teclado\",15,\"accesorios\"),\n",
    "(\"tv\",500,\"pantallas\"),(\"monitor\",200,\"pantallas\"),\n",
    "(\"audifonos\",50,\"audio\"),(\"parlante\",150,\"audio\")\n",
    "]\n",
    "#categoria: accesorios, pantallas, audio"
   ]
  },
  {
   "cell_type": "code",
   "execution_count": null,
   "id": "9ffe7676",
   "metadata": {},
   "outputs": [],
   "source": [
    "#Agrupar por categoria\n",
    "#el mas caro\n",
    "#Ordenar y mostrar todos los productos por categoria"
   ]
  },
  {
   "cell_type": "code",
   "execution_count": null,
   "id": "8abc81ea",
   "metadata": {},
   "outputs": [],
   "source": []
  }
 ],
 "metadata": {
  "kernelspec": {
   "display_name": "Python 3",
   "language": "python",
   "name": "python3"
  },
  "language_info": {
   "codemirror_mode": {
    "name": "ipython",
    "version": 3
   },
   "file_extension": ".py",
   "mimetype": "text/x-python",
   "name": "python",
   "nbconvert_exporter": "python",
   "pygments_lexer": "ipython3",
   "version": "3.12.1"
  }
 },
 "nbformat": 4,
 "nbformat_minor": 5
}
